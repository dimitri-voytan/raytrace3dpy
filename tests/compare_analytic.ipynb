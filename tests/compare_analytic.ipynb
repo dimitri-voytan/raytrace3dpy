{
 "cells": [
  {
   "cell_type": "code",
   "execution_count": 1,
   "metadata": {},
   "outputs": [],
   "source": [
    "import numpy as np\n",
    "import matplotlib.pyplot as plt\n",
    "import sys\n",
    "sys.path.append(\"..\")\n",
    "from raytrace3D import OnePointTrace3D"
   ]
  },
  {
   "cell_type": "markdown",
   "metadata": {},
   "source": [
    "From Cerveny, the analytic solution is\n",
    "\n",
    "$x_i(σ) = x_{i0} + p_{i0}(σ −σ_0)+ \\frac{1}{4} g_i(σ −σ_0)^2$\n",
    "\n",
    "$p_i (σ ) = p_{i0} + \\frac{1}{2} g_i (σ − σ_0 )$\n",
    "\n",
    "$T(σ)=T(σ_0)+S^2(σ−σ_0)+\\frac{1}{12}A_ip_{i0}(σ−σ_0)^2+ \\frac{1}{12} g_ig_i(σ−σ_0)^3$\n",
    "\n",
    "with $dσ = Vd\\lambda$"
   ]
  },
  {
   "cell_type": "code",
   "execution_count": 47,
   "metadata": {},
   "outputs": [],
   "source": [
    "takeoff_angle = (25, 0) #inclination, azimuth\n",
    "lf = 100\n",
    "\n",
    "dx = 0.10\n",
    "dy = 0.10\n",
    "dz = 0.10\n",
    "\n",
    "x_coords = np.arange(100)*dx\n",
    "y_coords = np.arange(100)*dy\n",
    "z_coords = np.arange(100)*dz\n",
    "\n",
    "xx, yy, zz = np.meshgrid(x_coords, y_coords, z_coords)\n",
    "velocity = np.sqrt(1.5+1.0*zz)\n",
    "\n",
    "src_coord = (x_coords[10],y_coords[50],z_coords[30])\n",
    "\n",
    "tracer = OnePointTrace3D(src_coord=src_coord, \n",
    "                         takeoff_angle=takeoff_angle, \n",
    "                         velocity=velocity,\n",
    "                         x_coords=x_coords, \n",
    "                         y_coords=y_coords, \n",
    "                         z_coords=z_coords,\n",
    "                         lf=lf)\n",
    "\n",
    "out = tracer.run(max_step=0.25)\n",
    "out_x = out['y'][0,:]\n",
    "out_y = out['y'][1,:]\n",
    "out_z = out['y'][2,:]\n",
    "lambdas = out['t']"
   ]
  },
  {
   "cell_type": "code",
   "execution_count": 48,
   "metadata": {},
   "outputs": [],
   "source": [
    "x_0, y_0, z_0, p_1, p_2, p_3, t_0 = tracer.y0    \n",
    "\n",
    "def x_analytic(sigma, x_0, p_0, g_i):\n",
    "    return x_0+p_0*sigma+(1/4)*g_i*(sigma)**2\n",
    "\n",
    "sigma = np.linspace(0,4)\n",
    "x_true = x_analytic(sigma=sigma, x_0=tracer.src_coord[0], p_0=tracer.y0[3], g_i=0)\n",
    "z_true = x_analytic(sigma=sigma, x_0=tracer.src_coord[2], p_0=tracer.y0[5], g_i=1.0)"
   ]
  },
  {
   "cell_type": "code",
   "execution_count": 49,
   "metadata": {},
   "outputs": [
    {
     "data": {
      "text/plain": [
       "<matplotlib.collections.PathCollection at 0x1184bffd0>"
      ]
     },
     "execution_count": 49,
     "metadata": {},
     "output_type": "execute_result"
    },
    {
     "data": {
      "image/png": "[encoded data removed]",
      "text/plain": [
       "<Figure size 432x288 with 1 Axes>"
      ]
     },
     "metadata": {
      "needs_background": "light"
     },
     "output_type": "display_data"
    }
   ],
   "source": [
    "out_x = out['y'][0,:]\n",
    "out_y = out['y'][1,:]\n",
    "out_z = out['y'][2,:]\n",
    "plt.imshow(velocity[:,50,:].T, extent =(0, 10, 10, 0))\n",
    "plt.scatter(out_x, out_z)\n",
    "plt.scatter(x_true, z_true)"
   ]
  }
 ],
 "metadata": {
  "interpreter": {
   "hash": "b4d24d3160cdc46155848325e7bd8153037fc3199854cee0a2a5233c807b6c21"
  },
  "kernelspec": {
   "display_name": "Python 3.7.4 ('base')",
   "language": "python",
   "name": "python3"
  },
  "language_info": {
   "codemirror_mode": {
    "name": "ipython",
    "version": 3
   },
   "file_extension": ".py",
   "mimetype": "text/x-python",
   "name": "python",
   "nbconvert_exporter": "python",
   "pygments_lexer": "ipython3",
   "version": "3.7.4"
  },
  "orig_nbformat": 4
 },
 "nbformat": 4,
 "nbformat_minor": 2
}
