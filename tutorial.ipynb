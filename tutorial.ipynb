{
 "cells": [
  {
   "cell_type": "code",
   "execution_count": 1,
   "metadata": {},
   "outputs": [],
   "source": [
    " %load_ext autoreload\n",
    " %autoreload 2"
   ]
  },
  {
   "cell_type": "code",
   "execution_count": 10,
   "metadata": {},
   "outputs": [],
   "source": [
    "import numpy as np\n",
    "import matplotlib.pyplot as plt\n",
    "from raytrace3D import OnePointTrace3D"
   ]
  },
  {
   "cell_type": "code",
   "execution_count": 43,
   "metadata": {},
   "outputs": [],
   "source": [
    "takeoff_angle = (45, 0) #inclination, azimuth\n",
    "lf = 100\n",
    "\n",
    "dx = 0.10\n",
    "dy = 0.10\n",
    "dz = 0.10\n",
    "\n",
    "x_coords = np.arange(100)*dx\n",
    "y_coords = np.arange(100)*dy\n",
    "z_coords = np.arange(100)*dz\n",
    "\n",
    "xx, yy, zz = np.meshgrid(x_coords, y_coords, z_coords)\n",
    "velocity = 1.5+1.0*zz\n",
    "\n",
    "src_coord = (x_coords[10],y_coords[50],z_coords[30])\n",
    "\n",
    "tracer = OnePointTrace3D(src_coord=src_coord, \n",
    "                         takeoff_angle=takeoff_angle, \n",
    "                         velocity=velocity,\n",
    "                         x_coords=x_coords, \n",
    "                         y_coords=y_coords, \n",
    "                         z_coords=z_coords,\n",
    "                         lf=lf)"
   ]
  },
  {
   "cell_type": "code",
   "execution_count": 44,
   "metadata": {},
   "outputs": [
    {
     "data": {
      "text/plain": [
       "<matplotlib.collections.PathCollection at 0x177263e90>"
      ]
     },
     "execution_count": 44,
     "metadata": {},
     "output_type": "execute_result"
    },
    {
     "data": {
      "image/png": "[encoded data removed]",
      "text/plain": [
       "<Figure size 432x288 with 1 Axes>"
      ]
     },
     "metadata": {
      "needs_background": "light"
     },
     "output_type": "display_data"
    }
   ],
   "source": [
    "out = tracer.run(max_step=0.25)\n",
    "out_x = out['y'][0,:]\n",
    "out_y = out['y'][1,:]\n",
    "out_z = out['y'][2,:]\n",
    "plt.imshow(velocity[:,50,:].T, extent =(0, 10, 10, 0))\n",
    "plt.scatter(out_x, out_z)"
   ]
  }
 ],
 "metadata": {
  "interpreter": {
   "hash": "b4d24d3160cdc46155848325e7bd8153037fc3199854cee0a2a5233c807b6c21"
  },
  "kernelspec": {
   "display_name": "Python 3.7.4 ('base')",
   "language": "python",
   "name": "python3"
  },
  "language_info": {
   "codemirror_mode": {
    "name": "ipython",
    "version": 3
   },
   "file_extension": ".py",
   "mimetype": "text/x-python",
   "name": "python",
   "nbconvert_exporter": "python",
   "pygments_lexer": "ipython3",
   "version": "3.7.4"
  },
  "orig_nbformat": 4
 },
 "nbformat": 4,
 "nbformat_minor": 2
}
